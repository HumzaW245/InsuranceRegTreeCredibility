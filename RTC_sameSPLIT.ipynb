{
 "cells": [
  {
   "cell_type": "code",
   "execution_count": 30,
   "metadata": {},
   "outputs": [],
   "source": [
    "#Term Project Actu\n",
    "\n",
    "## SETUP FOR GRAPHVIZ : https://www.youtube.com/watch?v=z-AGmGmR6Z8&list=PLPLCR16K6D4i31Zcx0fWOIWBYW5L69M5y&index=2&t=0s\n",
    "## https://scikit-learn.org/stable/modules/generated/sklearn.tree.DecisionTreeRegressor.html\n"
   ]
  },
  {
   "cell_type": "code",
   "execution_count": 31,
   "metadata": {},
   "outputs": [],
   "source": [
    "import pandas as pd\n",
    "import numpy as np\n",
    "import matplotlib.pyplot as plt\n",
    "import seaborn as sns\n",
    "%matplotlib inline\n",
    "from sklearn.model_selection import train_test_split\n",
    "from sklearn.tree import DecisionTreeRegressor"
   ]
  },
  {
   "cell_type": "code",
   "execution_count": 32,
   "metadata": {},
   "outputs": [
    {
     "data": {
      "text/html": [
       "<div>\n",
       "<style scoped>\n",
       "    .dataframe tbody tr th:only-of-type {\n",
       "        vertical-align: middle;\n",
       "    }\n",
       "\n",
       "    .dataframe tbody tr th {\n",
       "        vertical-align: top;\n",
       "    }\n",
       "\n",
       "    .dataframe thead th {\n",
       "        text-align: right;\n",
       "    }\n",
       "</style>\n",
       "<table border=\"1\" class=\"dataframe\">\n",
       "  <thead>\n",
       "    <tr style=\"text-align: right;\">\n",
       "      <th></th>\n",
       "      <th>KM</th>\n",
       "      <th>GEOGRAPH</th>\n",
       "      <th>BONUS</th>\n",
       "      <th>MODEL</th>\n",
       "      <th>NOCLAIM</th>\n",
       "      <th>SUMPAYM</th>\n",
       "      <th>CLAIMS</th>\n",
       "    </tr>\n",
       "  </thead>\n",
       "  <tbody>\n",
       "    <tr>\n",
       "      <th>0</th>\n",
       "      <td>1</td>\n",
       "      <td>1</td>\n",
       "      <td>1</td>\n",
       "      <td>1</td>\n",
       "      <td>108</td>\n",
       "      <td>392491</td>\n",
       "      <td>3634.175926</td>\n",
       "    </tr>\n",
       "    <tr>\n",
       "      <th>1</th>\n",
       "      <td>1</td>\n",
       "      <td>1</td>\n",
       "      <td>1</td>\n",
       "      <td>2</td>\n",
       "      <td>19</td>\n",
       "      <td>46221</td>\n",
       "      <td>2432.684211</td>\n",
       "    </tr>\n",
       "    <tr>\n",
       "      <th>2</th>\n",
       "      <td>1</td>\n",
       "      <td>1</td>\n",
       "      <td>1</td>\n",
       "      <td>3</td>\n",
       "      <td>13</td>\n",
       "      <td>15694</td>\n",
       "      <td>1207.230769</td>\n",
       "    </tr>\n",
       "    <tr>\n",
       "      <th>3</th>\n",
       "      <td>1</td>\n",
       "      <td>1</td>\n",
       "      <td>1</td>\n",
       "      <td>4</td>\n",
       "      <td>124</td>\n",
       "      <td>422201</td>\n",
       "      <td>3404.846774</td>\n",
       "    </tr>\n",
       "    <tr>\n",
       "      <th>4</th>\n",
       "      <td>1</td>\n",
       "      <td>1</td>\n",
       "      <td>1</td>\n",
       "      <td>5</td>\n",
       "      <td>40</td>\n",
       "      <td>119373</td>\n",
       "      <td>2984.325000</td>\n",
       "    </tr>\n",
       "  </tbody>\n",
       "</table>\n",
       "</div>"
      ],
      "text/plain": [
       "   KM  GEOGRAPH  BONUS  MODEL  NOCLAIM  SUMPAYM       CLAIMS\n",
       "0   1         1      1      1      108   392491  3634.175926\n",
       "1   1         1      1      2       19    46221  2432.684211\n",
       "2   1         1      1      3       13    15694  1207.230769\n",
       "3   1         1      1      4      124   422201  3404.846774\n",
       "4   1         1      1      5       40   119373  2984.325000"
      ]
     },
     "execution_count": 32,
     "metadata": {},
     "output_type": "execute_result"
    }
   ],
   "source": [
    "df = pd.read_csv(\"Sweden.csv\")\n",
    "df.head()"
   ]
  },
  {
   "cell_type": "code",
   "execution_count": 33,
   "metadata": {},
   "outputs": [
    {
     "data": {
      "text/html": [
       "<div>\n",
       "<style scoped>\n",
       "    .dataframe tbody tr th:only-of-type {\n",
       "        vertical-align: middle;\n",
       "    }\n",
       "\n",
       "    .dataframe tbody tr th {\n",
       "        vertical-align: top;\n",
       "    }\n",
       "\n",
       "    .dataframe thead th {\n",
       "        text-align: right;\n",
       "    }\n",
       "</style>\n",
       "<table border=\"1\" class=\"dataframe\">\n",
       "  <thead>\n",
       "    <tr style=\"text-align: right;\">\n",
       "      <th></th>\n",
       "      <th>KM</th>\n",
       "      <th>GEOGRAPH</th>\n",
       "      <th>BONUS</th>\n",
       "      <th>MODEL</th>\n",
       "    </tr>\n",
       "  </thead>\n",
       "  <tbody>\n",
       "    <tr>\n",
       "      <th>0</th>\n",
       "      <td>1</td>\n",
       "      <td>1</td>\n",
       "      <td>1</td>\n",
       "      <td>1</td>\n",
       "    </tr>\n",
       "    <tr>\n",
       "      <th>1</th>\n",
       "      <td>1</td>\n",
       "      <td>1</td>\n",
       "      <td>1</td>\n",
       "      <td>2</td>\n",
       "    </tr>\n",
       "    <tr>\n",
       "      <th>2</th>\n",
       "      <td>1</td>\n",
       "      <td>1</td>\n",
       "      <td>1</td>\n",
       "      <td>3</td>\n",
       "    </tr>\n",
       "    <tr>\n",
       "      <th>3</th>\n",
       "      <td>1</td>\n",
       "      <td>1</td>\n",
       "      <td>1</td>\n",
       "      <td>4</td>\n",
       "    </tr>\n",
       "    <tr>\n",
       "      <th>4</th>\n",
       "      <td>1</td>\n",
       "      <td>1</td>\n",
       "      <td>1</td>\n",
       "      <td>5</td>\n",
       "    </tr>\n",
       "  </tbody>\n",
       "</table>\n",
       "</div>"
      ],
      "text/plain": [
       "   KM  GEOGRAPH  BONUS  MODEL\n",
       "0   1         1      1      1\n",
       "1   1         1      1      2\n",
       "2   1         1      1      3\n",
       "3   1         1      1      4\n",
       "4   1         1      1      5"
      ]
     },
     "execution_count": 33,
     "metadata": {},
     "output_type": "execute_result"
    }
   ],
   "source": [
    "X = df.drop(['NOCLAIM','SUMPAYM','CLAIMS'],axis=1)\n",
    "y = df['SUMPAYM']\n",
    "X.head()"
   ]
  },
  {
   "cell_type": "code",
   "execution_count": 34,
   "metadata": {},
   "outputs": [],
   "source": [
    "y_NOCLAIM = df['NOCLAIM']\n",
    "y_SUMPAYM = df['SUMPAYM']"
   ]
  },
  {
   "cell_type": "code",
   "execution_count": null,
   "metadata": {},
   "outputs": [],
   "source": []
  },
  {
   "cell_type": "code",
   "execution_count": 6,
   "metadata": {},
   "outputs": [
    {
     "name": "stdout",
     "output_type": "stream",
     "text": [
      "0.3746343573083445 <- NOCLAIM score... i is 7 j is 5 k is 1\n",
      "0.3136812383994113 <- SUMPAYM score... i is 5 j is 5 k is 1\n",
      "0.3746343573083445 <- NOCLAIM score... i is 7 j is 5 k is 1\n",
      "0.31443426044704204 <- SUMPAYM score... i is 6 j is 5 k is 1\n",
      "0.3746343573083445 <- NOCLAIM score... i is 7 j is 5 k is 1\n",
      "0.31502349624224224 <- SUMPAYM score... i is 7 j is 5 k is 1\n",
      "0.6124387962540636 <- NOCLAIM score... i is 7 j is 11 k is 2\n",
      "0.565823568791854 <- SUMPAYM score... i is 5 j is 11 k is 2\n",
      "0.6124387962540636 <- NOCLAIM score... i is 7 j is 11 k is 2\n",
      "0.5672343618450545 <- SUMPAYM score... i is 6 j is 11 k is 2\n",
      "0.6124387962540636 <- NOCLAIM score... i is 7 j is 11 k is 2\n",
      "0.5673701799292072 <- SUMPAYM score... i is 7 j is 11 k is 2\n",
      "0.7223904056131032 <- NOCLAIM score... i is 7 j is 10 k is 3\n",
      "0.6549515749397764 <- SUMPAYM score... i is 5 j is 5 k is 3\n",
      "0.7223904056131032 <- NOCLAIM score... i is 7 j is 10 k is 3\n",
      "0.6822240977797908 <- SUMPAYM score... i is 6 j is 5 k is 3\n",
      "0.7223904056131032 <- NOCLAIM score... i is 7 j is 10 k is 3\n",
      "0.6861584362050616 <- SUMPAYM score... i is 7 j is 5 k is 3\n",
      "0.9001019970796635 <- NOCLAIM score... i is 7 j is 10 k is 8\n",
      "0.7593255023358407 <- SUMPAYM score... i is 5 j is 5 k is 8\n",
      "0.9001019970796635 <- NOCLAIM score... i is 7 j is 10 k is 8\n",
      "0.7630953117940256 <- SUMPAYM score... i is 6 j is 5 k is 8\n",
      "0.9001019970796635 <- NOCLAIM score... i is 7 j is 10 k is 8\n",
      "0.7727282917234899 <- SUMPAYM score... i is 7 j is 5 k is 8\n",
      "0.9001019970796635 <- NOCLAIM score... i is 7 j is 10 k is 8\n",
      "0.8475643216212755 <- SUMPAYM score... i is 5 j is 10 k is 8\n",
      "0.9001019970796635 <- NOCLAIM score... i is 7 j is 10 k is 8\n",
      "0.8553948309571638 <- SUMPAYM score... i is 6 j is 10 k is 8\n",
      "0.9001019970796635 <- NOCLAIM score... i is 7 j is 10 k is 8\n",
      "0.8569215669614384 <- SUMPAYM score... i is 7 j is 10 k is 8\n"
     ]
    }
   ],
   "source": [
    "best_iNOCLAIM = 10\n",
    "best_jNOCLAIM = 10\n",
    "best_kNOCLAIM = 1\n",
    "\n",
    "best_iSUMPAYM = 10\n",
    "best_jSUMPAYM = 10\n",
    "best_kSUMPAYM = 1\n",
    "\n",
    "max_scoreNOCLAIM = 0\n",
    "max_scoreSUMPAYM = 0\n",
    "\n",
    "for k in range(1,100):\n",
    "    ######################## USING SAME TRAIN TEST SPLIT TO BE ABLE TO DIVIDE SUMPAYM WITH CORRESPONDING NOCLAIM AFTERWARDS\n",
    "    X_train1, X_test1, y_train1, y_test1 = train_test_split(X, y_NOCLAIM, test_size=0.30,random_state=k)\n",
    "    X_train2, X_test2, y_train2, y_test2 = train_test_split(X, y_SUMPAYM, test_size=0.30,random_state=k)\n",
    "    \n",
    "    #NO CLAIM OPTIMIZATION OF PARAMETERS\n",
    "    \n",
    "    for j in range(5,25):\n",
    "        for i in range(2,8):\n",
    "            dtreeNOCLAIM = DecisionTreeRegressor(random_state=0,max_leaf_nodes=i,criterion='mae',min_samples_leaf=(j))\n",
    "            dtreeNOCLAIM.fit(X_train1,y_train1)\n",
    "            predictionsNOCLAIM = dtreeNOCLAIM.predict(X_test1)\n",
    "            scoreNOCLAIM = dtreeNOCLAIM.score(X_test1, y_test1) ## Does NOT need to call dtree.predict I think... dtree.fit is sufficient\n",
    "            if (scoreNOCLAIM>max_scoreNOCLAIM):\n",
    "                max_scoreNOCLAIM = scoreNOCLAIM\n",
    "                best_iNOCLAIM = i\n",
    "                best_jNOCLAIM = j\n",
    "                best_kNOCLAIM = k\n",
    "    j=0\n",
    "    i=0             \n",
    "    \n",
    "    #SUMPAYM OPTIMIZATION OF PARAMETERS\n",
    "    \n",
    "    for j in range(5,25):\n",
    "        for i in range(5,8):\n",
    "            dtreeSUMPAYM = DecisionTreeRegressor(random_state=0,max_leaf_nodes=i,criterion='mae',min_samples_leaf=(j))\n",
    "            dtreeSUMPAYM.fit(X_train2,y_train2)\n",
    "            predictionsSUMPAYM = dtreeSUMPAYM.predict(X_test2)\n",
    "            scoreSUMPAYM = dtreeSUMPAYM.score(X_test2, y_test2) ## Does NOT need to call dtree.predict I think... dtree.fit is sufficient\n",
    "            if (scoreSUMPAYM>max_scoreSUMPAYM and k == best_kNOCLAIM): #want to display only if the SAME TRAIN TEST SPLIT\n",
    "                max_scoreSUMPAYM = scoreSUMPAYM\n",
    "                best_iSUMPAYM = i\n",
    "                best_jSUMPAYM = j\n",
    "                best_kSUMPAYM = k\n",
    "                print(str(max_scoreNOCLAIM) + \" <- NOCLAIM score...\"+\" i is \" + str(best_iNOCLAIM) + \" j is \"+str(best_jNOCLAIM)+ \" k is \" +str(best_kNOCLAIM))\n",
    "                print(str(max_scoreSUMPAYM)+ \" <- SUMPAYM score...\" +\" i is \" + str(best_iSUMPAYM) + \" j is \"+str(best_jSUMPAYM)+ \" k is \" +str(best_kSUMPAYM))\n",
    "                "
   ]
  },
  {
   "cell_type": "code",
   "execution_count": null,
   "metadata": {},
   "outputs": [],
   "source": []
  },
  {
   "cell_type": "code",
   "execution_count": 35,
   "metadata": {},
   "outputs": [
    {
     "name": "stdout",
     "output_type": "stream",
     "text": [
      "0.9001019970796635 <- NOCLAIM score... i is 7 j is 10 k is 8\n",
      "0.8475643216212755 <- SUMPAYM score... i is 5 j is 10 k is 8\n"
     ]
    }
   ],
   "source": [
    "#Applying optimal parameters\n",
    "\n",
    "best_iNOCLAIM = 7\n",
    "best_jNOCLAIM = 10\n",
    "best_kNOCLAIM = 8\n",
    "\n",
    "best_iSUMPAYM = 5 # DECIDED TO USE i=5 for SUMPAYM since do not lose any accuracy while keeping a smaller, easier to interpret tree*************\n",
    "best_jSUMPAYM = 10\n",
    "best_kSUMPAYM = 8\n",
    "\n",
    "X_train1, X_test1, y_train1, y_test1 = train_test_split(X, y_NOCLAIM, test_size=0.30,random_state=best_kNOCLAIM)\n",
    "X_train2, X_test2, y_train2, y_test2 = train_test_split(X, y_SUMPAYM, test_size=0.30,random_state=best_kSUMPAYM)\n",
    "\n",
    "#NOCLAIM\n",
    "dtreeNOCLAIM = DecisionTreeRegressor(random_state=0,max_leaf_nodes=best_iNOCLAIM,criterion='mae',min_samples_leaf=(best_jNOCLAIM))\n",
    "dtreeNOCLAIM.fit(X_train1,y_train1)\n",
    "predictionsNOCLAIM = dtreeNOCLAIM.predict(X_test1)\n",
    "scoreNOCLAIM = dtreeNOCLAIM.score(X_test1, y_test1)\n",
    "\n",
    "#R^2 value = 1-SSE/SSTO \n",
    "print(str(scoreNOCLAIM) + \" <- NOCLAIM score...\"+\" i is \" + str(best_iNOCLAIM) + \" j is \"+str(best_jNOCLAIM)+ \" k is \" +str(best_kNOCLAIM))\n",
    "\n",
    "#SUMPAYM\n",
    "dtreeSUMPAYM = DecisionTreeRegressor(random_state=0,max_leaf_nodes=best_iSUMPAYM,criterion='mae',min_samples_leaf=(best_jSUMPAYM))\n",
    "dtreeSUMPAYM.fit(X_train2,y_train2)\n",
    "predictionsSUMPAYM = dtreeSUMPAYM.predict(X_test2)\n",
    "scoreSUMPAYM = dtreeSUMPAYM.score(X_test2, y_test2)\n",
    "\n",
    "#R^2 value = 1-SSE/SSTO \n",
    "print(str(scoreSUMPAYM)+ \" <- SUMPAYM score...\" +\" i is \" + str(best_iSUMPAYM) + \" j is \"+str(best_jSUMPAYM)+ \" k is \" +str(best_kSUMPAYM))\n",
    "               \n",
    "               "
   ]
  },
  {
   "cell_type": "markdown",
   "metadata": {},
   "source": []
  },
  {
   "cell_type": "code",
   "execution_count": null,
   "metadata": {},
   "outputs": [],
   "source": []
  },
  {
   "cell_type": "markdown",
   "metadata": {
    "scrolled": true
   },
   "source": []
  },
  {
   "cell_type": "code",
   "execution_count": 36,
   "metadata": {},
   "outputs": [
    {
     "data": {
      "text/plain": [
       "['KM', 'GEOGRAPH', 'BONUS', 'MODEL']"
      ]
     },
     "execution_count": 36,
     "metadata": {},
     "output_type": "execute_result"
    }
   ],
   "source": [
    "##Visualization\n",
    "\n",
    "## SETUP FOR GRAPHVIZ : https://www.youtube.com/watch?v=z-AGmGmR6Z8&list=PLPLCR16K6D4i31Zcx0fWOIWBYW5L69M5y&index=2&t=0s\n",
    "\n",
    "from IPython.display import Image  \n",
    "from sklearn.externals.six import StringIO  \n",
    "from sklearn import tree\n",
    "from sklearn.tree import export_graphviz\n",
    "import pydotplus \n",
    "\n",
    "features = list(df.columns[0:4])\n",
    "features\n",
    "  \n",
    "\n",
    "\n"
   ]
  },
  {
   "cell_type": "code",
   "execution_count": 37,
   "metadata": {},
   "outputs": [],
   "source": [
    "#NOCLAIM VISUALIZATION\n",
    "dot_data = StringIO()  \n",
    "export_graphviz(dtreeNOCLAIM, out_file=dot_data,feature_names=features,filled=True,rounded=True)\n",
    "\n",
    "graph = pydotplus.graph_from_dot_data(dot_data.getvalue())"
   ]
  },
  {
   "cell_type": "code",
   "execution_count": 38,
   "metadata": {},
   "outputs": [
    {
     "data": {
      "text/plain": [
       "True"
      ]
     },
     "execution_count": 38,
     "metadata": {},
     "output_type": "execute_result"
    }
   ],
   "source": [
    "graph.write_png(\"RTC_NOCLAIMS.png\")"
   ]
  },
  {
   "cell_type": "code",
   "execution_count": 39,
   "metadata": {},
   "outputs": [],
   "source": [
    "#SUMPAYM VISUALIZATION\n",
    "dot_data = StringIO()  \n",
    "export_graphviz(dtreeSUMPAYM, out_file=dot_data,feature_names=features,filled=True,rounded=True)\n",
    "\n",
    "graph = pydotplus.graph_from_dot_data(dot_data.getvalue())  \n"
   ]
  },
  {
   "cell_type": "code",
   "execution_count": 40,
   "metadata": {},
   "outputs": [
    {
     "data": {
      "text/plain": [
       "True"
      ]
     },
     "execution_count": 40,
     "metadata": {},
     "output_type": "execute_result"
    }
   ],
   "source": [
    "graph.write_png(\"RTC_SUMPAYM.png\")"
   ]
  },
  {
   "cell_type": "code",
   "execution_count": 41,
   "metadata": {},
   "outputs": [],
   "source": [
    "#Image(graph.create_jpeg())"
   ]
  },
  {
   "cell_type": "code",
   "execution_count": 42,
   "metadata": {},
   "outputs": [
    {
     "data": {
      "text/html": [
       "<div>\n",
       "<style scoped>\n",
       "    .dataframe tbody tr th:only-of-type {\n",
       "        vertical-align: middle;\n",
       "    }\n",
       "\n",
       "    .dataframe tbody tr th {\n",
       "        vertical-align: top;\n",
       "    }\n",
       "\n",
       "    .dataframe thead th {\n",
       "        text-align: right;\n",
       "    }\n",
       "</style>\n",
       "<table border=\"1\" class=\"dataframe\">\n",
       "  <thead>\n",
       "    <tr style=\"text-align: right;\">\n",
       "      <th></th>\n",
       "      <th>Number of Claims</th>\n",
       "      <th>Sum Payment</th>\n",
       "      <th>Average Claims</th>\n",
       "      <th>|</th>\n",
       "      <th>Predicted Number of Claims</th>\n",
       "      <th>Predicted Sum Payment</th>\n",
       "      <th>Predicted Average Claims(PredSum/ActualNoClaims)</th>\n",
       "    </tr>\n",
       "  </thead>\n",
       "  <tbody>\n",
       "    <tr>\n",
       "      <th>0</th>\n",
       "      <td>98</td>\n",
       "      <td>524453</td>\n",
       "      <td>5351.561224</td>\n",
       "      <td>|</td>\n",
       "      <td>111.0</td>\n",
       "      <td>505940.0</td>\n",
       "      <td>5162.653061</td>\n",
       "    </tr>\n",
       "    <tr>\n",
       "      <th>1</th>\n",
       "      <td>8</td>\n",
       "      <td>19055</td>\n",
       "      <td>2381.875000</td>\n",
       "      <td>|</td>\n",
       "      <td>4.0</td>\n",
       "      <td>12901.5</td>\n",
       "      <td>1612.687500</td>\n",
       "    </tr>\n",
       "    <tr>\n",
       "      <th>2</th>\n",
       "      <td>0</td>\n",
       "      <td>0</td>\n",
       "      <td>NaN</td>\n",
       "      <td>|</td>\n",
       "      <td>4.0</td>\n",
       "      <td>12901.5</td>\n",
       "      <td>inf</td>\n",
       "    </tr>\n",
       "    <tr>\n",
       "      <th>3</th>\n",
       "      <td>5</td>\n",
       "      <td>40553</td>\n",
       "      <td>8110.600000</td>\n",
       "      <td>|</td>\n",
       "      <td>4.0</td>\n",
       "      <td>12901.5</td>\n",
       "      <td>2580.300000</td>\n",
       "    </tr>\n",
       "    <tr>\n",
       "      <th>4</th>\n",
       "      <td>638</td>\n",
       "      <td>2873487</td>\n",
       "      <td>4503.898119</td>\n",
       "      <td>|</td>\n",
       "      <td>456.0</td>\n",
       "      <td>1911772.0</td>\n",
       "      <td>2996.507837</td>\n",
       "    </tr>\n",
       "  </tbody>\n",
       "</table>\n",
       "</div>"
      ],
      "text/plain": [
       "   Number of Claims  Sum Payment  Average Claims  |  \\\n",
       "0                98       524453     5351.561224  |   \n",
       "1                 8        19055     2381.875000  |   \n",
       "2                 0            0             NaN  |   \n",
       "3                 5        40553     8110.600000  |   \n",
       "4               638      2873487     4503.898119  |   \n",
       "\n",
       "   Predicted Number of Claims  Predicted Sum Payment  \\\n",
       "0                       111.0               505940.0   \n",
       "1                         4.0                12901.5   \n",
       "2                         4.0                12901.5   \n",
       "3                         4.0                12901.5   \n",
       "4                       456.0              1911772.0   \n",
       "\n",
       "   Predicted Average Claims(PredSum/ActualNoClaims)  \n",
       "0                                       5162.653061  \n",
       "1                                       1612.687500  \n",
       "2                                               inf  \n",
       "3                                       2580.300000  \n",
       "4                                       2996.507837  "
      ]
     },
     "execution_count": 42,
     "metadata": {},
     "output_type": "execute_result"
    }
   ],
   "source": [
    "compareDF = pd.DataFrame(\n",
    "    {\n",
    "    #Actual\n",
    "    'Number of Claims':y_test1.reset_index()['NOCLAIM'],\n",
    "    'Sum Payment':y_test2.reset_index()['SUMPAYM'],\n",
    "    'Average Claims': y_test2.reset_index()['SUMPAYM']/y_test1.reset_index()['NOCLAIM'],\n",
    "    \n",
    "    '|'   : '|',\n",
    "     #Predictions\n",
    "    'Predicted Number of Claims':pd.Series(predictionsNOCLAIM),\n",
    "    'Predicted Sum Payment':pd.Series(predictionsSUMPAYM),\n",
    "    'Predicted Average Claims(PredSum/ActualNoClaims)': pd.Series(predictionsSUMPAYM)/y_test1.reset_index()['NOCLAIM'],\n",
    "})\n",
    "\n",
    "\n",
    "compareDF.head()"
   ]
  },
  {
   "cell_type": "code",
   "execution_count": null,
   "metadata": {},
   "outputs": [],
   "source": []
  },
  {
   "cell_type": "code",
   "execution_count": 43,
   "metadata": {},
   "outputs": [
    {
     "name": "stderr",
     "output_type": "stream",
     "text": [
      "C:\\Users\\Humza Wajid\\Anaconda3\\lib\\site-packages\\ipykernel_launcher.py:4: SettingWithCopyWarning: \n",
      "A value is trying to be set on a copy of a slice from a DataFrame.\n",
      "Try using .loc[row_indexer,col_indexer] = value instead\n",
      "\n",
      "See the caveats in the documentation: http://pandas.pydata.org/pandas-docs/stable/indexing.html#indexing-view-versus-copy\n",
      "  after removing the cwd from sys.path.\n"
     ]
    },
    {
     "data": {
      "text/html": [
       "<div>\n",
       "<style scoped>\n",
       "    .dataframe tbody tr th:only-of-type {\n",
       "        vertical-align: middle;\n",
       "    }\n",
       "\n",
       "    .dataframe tbody tr th {\n",
       "        vertical-align: top;\n",
       "    }\n",
       "\n",
       "    .dataframe thead th {\n",
       "        text-align: right;\n",
       "    }\n",
       "</style>\n",
       "<table border=\"1\" class=\"dataframe\">\n",
       "  <thead>\n",
       "    <tr style=\"text-align: right;\">\n",
       "      <th></th>\n",
       "      <th>Number of Claims</th>\n",
       "      <th>Predicted Number of Claims</th>\n",
       "      <th>Absolute Error</th>\n",
       "    </tr>\n",
       "  </thead>\n",
       "  <tbody>\n",
       "    <tr>\n",
       "      <th>0</th>\n",
       "      <td>98</td>\n",
       "      <td>111.0</td>\n",
       "      <td>13.0</td>\n",
       "    </tr>\n",
       "    <tr>\n",
       "      <th>1</th>\n",
       "      <td>8</td>\n",
       "      <td>4.0</td>\n",
       "      <td>4.0</td>\n",
       "    </tr>\n",
       "    <tr>\n",
       "      <th>2</th>\n",
       "      <td>0</td>\n",
       "      <td>4.0</td>\n",
       "      <td>4.0</td>\n",
       "    </tr>\n",
       "    <tr>\n",
       "      <th>3</th>\n",
       "      <td>5</td>\n",
       "      <td>4.0</td>\n",
       "      <td>1.0</td>\n",
       "    </tr>\n",
       "    <tr>\n",
       "      <th>4</th>\n",
       "      <td>638</td>\n",
       "      <td>456.0</td>\n",
       "      <td>182.0</td>\n",
       "    </tr>\n",
       "  </tbody>\n",
       "</table>\n",
       "</div>"
      ],
      "text/plain": [
       "   Number of Claims  Predicted Number of Claims  Absolute Error\n",
       "0                98                       111.0            13.0\n",
       "1                 8                         4.0             4.0\n",
       "2                 0                         4.0             4.0\n",
       "3                 5                         4.0             1.0\n",
       "4               638                       456.0           182.0"
      ]
     },
     "execution_count": 43,
     "metadata": {},
     "output_type": "execute_result"
    }
   ],
   "source": [
    "#NOCLAIM\n",
    "compareNOCLAIM = compareDF[['Number of Claims','Predicted Number of Claims']]\n",
    "\n",
    "compareNOCLAIM['Absolute Error'] = abs(compareNOCLAIM['Number of Claims'] - compareNOCLAIM['Predicted Number of Claims'])\n",
    "compareNOCLAIM.head()"
   ]
  },
  {
   "cell_type": "code",
   "execution_count": 44,
   "metadata": {},
   "outputs": [
    {
     "data": {
      "image/png": "[encoded data removed]",
      "text/plain": [
       "<Figure size 432x288 with 1 Axes>"
      ]
     },
     "metadata": {
      "needs_background": "light"
     },
     "output_type": "display_data"
    }
   ],
   "source": [
    "#Plot NOCLAIM\n",
    "plt.plot(compareNOCLAIM['Number of Claims'],color='red',label='Real')\n",
    "plt.plot(compareNOCLAIM['Predicted Number of Claims'],color='blue',label='Predictions')\n",
    "plt.legend()\n",
    "plt.title('Number of Claims Decision Tree Results')\n",
    "plt.show()"
   ]
  },
  {
   "cell_type": "code",
   "execution_count": 45,
   "metadata": {
    "scrolled": true
   },
   "outputs": [
    {
     "name": "stderr",
     "output_type": "stream",
     "text": [
      "C:\\Users\\Humza Wajid\\Anaconda3\\lib\\site-packages\\ipykernel_launcher.py:4: SettingWithCopyWarning: \n",
      "A value is trying to be set on a copy of a slice from a DataFrame.\n",
      "Try using .loc[row_indexer,col_indexer] = value instead\n",
      "\n",
      "See the caveats in the documentation: http://pandas.pydata.org/pandas-docs/stable/indexing.html#indexing-view-versus-copy\n",
      "  after removing the cwd from sys.path.\n"
     ]
    },
    {
     "data": {
      "text/html": [
       "<div>\n",
       "<style scoped>\n",
       "    .dataframe tbody tr th:only-of-type {\n",
       "        vertical-align: middle;\n",
       "    }\n",
       "\n",
       "    .dataframe tbody tr th {\n",
       "        vertical-align: top;\n",
       "    }\n",
       "\n",
       "    .dataframe thead th {\n",
       "        text-align: right;\n",
       "    }\n",
       "</style>\n",
       "<table border=\"1\" class=\"dataframe\">\n",
       "  <thead>\n",
       "    <tr style=\"text-align: right;\">\n",
       "      <th></th>\n",
       "      <th>Sum Payment</th>\n",
       "      <th>Predicted Sum Payment</th>\n",
       "      <th>Absolute Error</th>\n",
       "    </tr>\n",
       "  </thead>\n",
       "  <tbody>\n",
       "    <tr>\n",
       "      <th>0</th>\n",
       "      <td>524453</td>\n",
       "      <td>505940.0</td>\n",
       "      <td>18513.0</td>\n",
       "    </tr>\n",
       "    <tr>\n",
       "      <th>1</th>\n",
       "      <td>19055</td>\n",
       "      <td>12901.5</td>\n",
       "      <td>6153.5</td>\n",
       "    </tr>\n",
       "    <tr>\n",
       "      <th>2</th>\n",
       "      <td>0</td>\n",
       "      <td>12901.5</td>\n",
       "      <td>12901.5</td>\n",
       "    </tr>\n",
       "    <tr>\n",
       "      <th>3</th>\n",
       "      <td>40553</td>\n",
       "      <td>12901.5</td>\n",
       "      <td>27651.5</td>\n",
       "    </tr>\n",
       "    <tr>\n",
       "      <th>4</th>\n",
       "      <td>2873487</td>\n",
       "      <td>1911772.0</td>\n",
       "      <td>961715.0</td>\n",
       "    </tr>\n",
       "  </tbody>\n",
       "</table>\n",
       "</div>"
      ],
      "text/plain": [
       "   Sum Payment  Predicted Sum Payment  Absolute Error\n",
       "0       524453               505940.0         18513.0\n",
       "1        19055                12901.5          6153.5\n",
       "2            0                12901.5         12901.5\n",
       "3        40553                12901.5         27651.5\n",
       "4      2873487              1911772.0        961715.0"
      ]
     },
     "execution_count": 45,
     "metadata": {},
     "output_type": "execute_result"
    }
   ],
   "source": [
    "#SUMPAYM\n",
    "compareSUMPAYM = compareDF[['Sum Payment','Predicted Sum Payment']]\n",
    "\n",
    "compareSUMPAYM['Absolute Error'] = abs(compareSUMPAYM['Sum Payment'] - compareSUMPAYM['Predicted Sum Payment'])\n",
    "compareSUMPAYM.head()\n"
   ]
  },
  {
   "cell_type": "code",
   "execution_count": 46,
   "metadata": {},
   "outputs": [
    {
     "data": {
      "image/png": "[encoded data removed]",
      "text/plain": [
       "<Figure size 432x288 with 1 Axes>"
      ]
     },
     "metadata": {
      "needs_background": "light"
     },
     "output_type": "display_data"
    }
   ],
   "source": [
    "#Plot SUMPAYM\n",
    "plt.plot(compareSUMPAYM['Sum Payment'],color='red',label='Real')\n",
    "plt.plot(compareSUMPAYM['Predicted Sum Payment'],color='blue',label='Predictions')\n",
    "plt.legend()\n",
    "plt.title('Sum Payment Decision Tree Results')\n",
    "plt.show()\n"
   ]
  },
  {
   "cell_type": "code",
   "execution_count": 47,
   "metadata": {},
   "outputs": [],
   "source": [
    "#AVG\n",
    "#compareAVG = compareDF[['Average Claims','Predicted Average Claims']]\n",
    "\n",
    "#compareAVG['Absolute Error'] = abs(compareAVG['Average Claims'] - compareAVG['Predicted Average Claims'])\n",
    "#compareAVG.head()\n"
   ]
  },
  {
   "cell_type": "code",
   "execution_count": 48,
   "metadata": {},
   "outputs": [],
   "source": [
    "#Plot AVG\n",
    "#plt.plot(compareAVG['Average Claims'],color='red',label='Real')\n",
    "#plt.plot(compareAVG['Predicted Average Claims'],color='blue',label='Predictions')\n",
    "#plt.legend()\n",
    "#plt.title('Average Claims Decision Tree Regression')\n",
    "#plt.show()\n"
   ]
  },
  {
   "cell_type": "code",
   "execution_count": 49,
   "metadata": {},
   "outputs": [],
   "source": [
    "#plt.plot(compareAVG['Absolute Error'],color='red',label = 'Real-Predicted')\n",
    "#plt.title('Number of claims: Absolute Error of Predictions')\n",
    "#plt.show()"
   ]
  },
  {
   "cell_type": "code",
   "execution_count": null,
   "metadata": {},
   "outputs": [],
   "source": []
  },
  {
   "cell_type": "code",
   "execution_count": 50,
   "metadata": {},
   "outputs": [],
   "source": [
    "#EXPORTING TO EXCEL DATA FRAMES\n",
    "\n",
    "excelSummary = compareDF.to_excel('Summary.xlsx')\n",
    "excelNOCLAIM = compareNOCLAIM.to_excel('NOCLAIM.xlsx')\n",
    "excelSUMPAYM= compareSUMPAYM.to_excel('SUMPAYM.xlsx')"
   ]
  },
  {
   "cell_type": "code",
   "execution_count": null,
   "metadata": {},
   "outputs": [],
   "source": []
  },
  {
   "cell_type": "code",
   "execution_count": 74,
   "metadata": {
    "scrolled": true
   },
   "outputs": [
    {
     "name": "stderr",
     "output_type": "stream",
     "text": [
      "C:\\Users\\Humza Wajid\\Anaconda3\\lib\\site-packages\\ipykernel_launcher.py:2: SettingWithCopyWarning: \n",
      "A value is trying to be set on a copy of a slice from a DataFrame.\n",
      "Try using .loc[row_indexer,col_indexer] = value instead\n",
      "\n",
      "See the caveats in the documentation: http://pandas.pydata.org/pandas-docs/stable/indexing.html#indexing-view-versus-copy\n",
      "  \n",
      "C:\\Users\\Humza Wajid\\Anaconda3\\lib\\site-packages\\ipykernel_launcher.py:5: UserWarning: Boolean Series key will be reindexed to match DataFrame index.\n",
      "  \"\"\"\n",
      "C:\\Users\\Humza Wajid\\Anaconda3\\lib\\site-packages\\ipykernel_launcher.py:6: UserWarning: Boolean Series key will be reindexed to match DataFrame index.\n",
      "  \n",
      "C:\\Users\\Humza Wajid\\Anaconda3\\lib\\site-packages\\ipykernel_launcher.py:11: UserWarning: Boolean Series key will be reindexed to match DataFrame index.\n",
      "  # This is added back by InteractiveShellApp.init_path()\n",
      "C:\\Users\\Humza Wajid\\Anaconda3\\lib\\site-packages\\ipykernel_launcher.py:12: UserWarning: Boolean Series key will be reindexed to match DataFrame index.\n",
      "  if sys.path[0] == '':\n",
      "C:\\Users\\Humza Wajid\\Anaconda3\\lib\\site-packages\\ipykernel_launcher.py:16: UserWarning: Boolean Series key will be reindexed to match DataFrame index.\n",
      "  app.launch_new_instance()\n",
      "C:\\Users\\Humza Wajid\\Anaconda3\\lib\\site-packages\\ipykernel_launcher.py:20: UserWarning: Boolean Series key will be reindexed to match DataFrame index.\n",
      "C:\\Users\\Humza Wajid\\Anaconda3\\lib\\site-packages\\ipykernel_launcher.py:24: UserWarning: Boolean Series key will be reindexed to match DataFrame index.\n"
     ]
    }
   ],
   "source": [
    "#Segmenting data in its classes\n",
    "X_train2['SUMPAYM'] = y_train2\n",
    "class1 = X_train2[\n",
    "    X_train2['MODEL'] <= 8.5][\n",
    "    X_train2['KM'] <= 3.5][\n",
    "    X_train2['MODEL'] <= 1.5]\n",
    "\n",
    "\n",
    "class2 = X_train2[\n",
    "    X_train2['MODEL'] <= 8.5][\n",
    "    X_train2['KM'] <= 3.5][\n",
    "    X_train2['MODEL'] > 1.5]\n",
    "\n",
    "class3 = X_train2[\n",
    "    X_train2['MODEL'] <= 8.5][\n",
    "    X_train2['KM'] >3.5]\n",
    "\n",
    "class4 = X_train2[\n",
    "    X_train2['MODEL'] > 8.5][\n",
    "    X_train2['KM'] <= 3.5]\n",
    "\n",
    "class5 = X_train2[\n",
    "    X_train2['MODEL'] > 8.5][\n",
    "    X_train2['KM'] > 3.5]\n"
   ]
  },
  {
   "cell_type": "code",
   "execution_count": null,
   "metadata": {},
   "outputs": [],
   "source": []
  },
  {
   "cell_type": "code",
   "execution_count": null,
   "metadata": {},
   "outputs": [],
   "source": []
  },
  {
   "cell_type": "code",
   "execution_count": null,
   "metadata": {},
   "outputs": [],
   "source": []
  },
  {
   "cell_type": "code",
   "execution_count": 75,
   "metadata": {},
   "outputs": [
    {
     "data": {
      "text/plain": [
       "200772.33636363636"
      ]
     },
     "execution_count": 75,
     "metadata": {},
     "output_type": "execute_result"
    }
   ],
   "source": [
    "#SUMPAYM stuff all the way until you see NOCLAIM\n",
    "\n",
    "#X_barj values\n",
    "##################### Describe each of these classes \n",
    "####### in report but assign an index j value to each \n",
    "# Currently 1 to 5 classes from left to right on tree\n",
    "X_bar_j =pd.Series([223266,57701.5,12901.5,1911772,505940])\n",
    "X_bar_j_weights = pd.Series([14,100,80,15,11]) #We base weights off #observations of that class so\n",
    "\n",
    "# m_hat is a better indicator of the WHOLE data\n",
    "\n",
    "m_hat = X_bar_j*(X_bar_j_weights/sum(X_bar_j_weights))\n",
    "m_hat = sum(m_hat)\n",
    "m_hat\n"
   ]
  },
  {
   "cell_type": "code",
   "execution_count": 76,
   "metadata": {},
   "outputs": [],
   "source": [
    "avgcl1 = sum(class1['SUMPAYM'])/class1['SUMPAYM'].count()\n",
    "avgcl2 = sum(class2['SUMPAYM'])/class2['SUMPAYM'].count()\n",
    "avgcl3 = sum(class3['SUMPAYM'])/class3['SUMPAYM'].count()\n",
    "avgcl4 = sum(class4['SUMPAYM'])/class4['SUMPAYM'].count()\n",
    "avgcl5 = sum(class5['SUMPAYM'])/class5['SUMPAYM'].count()\n"
   ]
  },
  {
   "cell_type": "code",
   "execution_count": null,
   "metadata": {},
   "outputs": [],
   "source": []
  },
  {
   "cell_type": "code",
   "execution_count": 81,
   "metadata": {},
   "outputs": [
    {
     "data": {
      "text/plain": [
       "2219061740600.308"
      ]
     },
     "execution_count": 81,
     "metadata": {},
     "output_type": "execute_result"
    }
   ],
   "source": [
    "#Setup for s^2 calculation\n",
    "cl1 = sum((class1['SUMPAYM']-avgcl1)**2)/(class1['SUMPAYM'].count()-1)\n",
    "cl2 = sum((class2['SUMPAYM']-avgcl2)**2)/(class2['SUMPAYM'].count()-1)\n",
    "cl3 = sum((class3['SUMPAYM']-avgcl3)**2)/(class3['SUMPAYM'].count()-1)\n",
    "cl4 = sum((class4['SUMPAYM']-avgcl4)**2)/(class4['SUMPAYM'].count()-1)\n",
    "cl5 = sum((class5['SUMPAYM']-avgcl5)**2)/(class5['SUMPAYM'].count()-1)\n",
    "\n",
    "s_2_hat = (1/5)*(cl1+cl2+cl3+cl4+cl5) ##Formula 2.7 Actuarial Journal\n",
    "s_2_hat\n",
    "\n"
   ]
  },
  {
   "cell_type": "code",
   "execution_count": 83,
   "metadata": {},
   "outputs": [
    {
     "data": {
      "text/plain": [
       "286302097017.6461"
      ]
     },
     "execution_count": 83,
     "metadata": {},
     "output_type": "execute_result"
    }
   ],
   "source": [
    "#a_hat\n",
    "\n",
    "#Use formulas 2.7,2.8, etc. from Actuarial journal for a,s^2,etc \n",
    "## ORRRR\n",
    "# Lemma 4.3 formulas... maybe these if using samples (observations in each class) as weights for that class (w_j.)\n",
    "\n",
    "#Using Lemma 4.3 from notes\n",
    "a_hat_numerator = 220*(sum(X_bar_j_weights*((X_bar_j-m_hat)**2)) - (5-1)*s_2_hat)\n",
    "a_hat_denominator =  220**2 - sum(X_bar_j_weights**2)\n",
    "\n",
    "a_hat = a_hat_numerator/a_hat_denominator\n",
    "a_hat"
   ]
  },
  {
   "cell_type": "code",
   "execution_count": 85,
   "metadata": {},
   "outputs": [],
   "source": [
    "Z_1 = (a_hat*X_bar_j_weights[0])/(s_2_hat + (a_hat*X_bar_j_weights[0]) )\n",
    "Z_2 = (a_hat*X_bar_j_weights[1])/(s_2_hat + (a_hat*X_bar_j_weights[1]) )\n",
    "Z_3 = (a_hat*X_bar_j_weights[2])/(s_2_hat + (a_hat*X_bar_j_weights[2]) )\n",
    "Z_4 = (a_hat*X_bar_j_weights[3])/(s_2_hat + (a_hat*X_bar_j_weights[3]) )\n",
    "Z_5 = (a_hat*X_bar_j_weights[4])/(s_2_hat + (a_hat*X_bar_j_weights[4]) )\n",
    "\n",
    "Z_j = pd.Series([Z_1,Z_2,Z_3,Z_4,Z_5])"
   ]
  },
  {
   "cell_type": "code",
   "execution_count": 87,
   "metadata": {},
   "outputs": [],
   "source": [
    "#Buhlmann-Straub Credibility application\n",
    "\n",
    "#Put all the stuff like in Chapter 4 or Assignment 3 tables at the end (Also do it for NOCLAIM)\n",
    "\n",
    "BS_df = pd.DataFrame(\n",
    "{\n",
    "    'Z_j': Z_j\n",
    "}\n",
    "\n",
    ")"
   ]
  },
  {
   "cell_type": "code",
   "execution_count": null,
   "metadata": {},
   "outputs": [],
   "source": []
  },
  {
   "cell_type": "code",
   "execution_count": 88,
   "metadata": {},
   "outputs": [
    {
     "data": {
      "text/html": [
       "<div>\n",
       "<style scoped>\n",
       "    .dataframe tbody tr th:only-of-type {\n",
       "        vertical-align: middle;\n",
       "    }\n",
       "\n",
       "    .dataframe tbody tr th {\n",
       "        vertical-align: top;\n",
       "    }\n",
       "\n",
       "    .dataframe thead th {\n",
       "        text-align: right;\n",
       "    }\n",
       "</style>\n",
       "<table border=\"1\" class=\"dataframe\">\n",
       "  <thead>\n",
       "    <tr style=\"text-align: right;\">\n",
       "      <th></th>\n",
       "      <th>Z_j</th>\n",
       "    </tr>\n",
       "  </thead>\n",
       "  <tbody>\n",
       "    <tr>\n",
       "      <th>0</th>\n",
       "      <td>0.643655</td>\n",
       "    </tr>\n",
       "    <tr>\n",
       "      <th>1</th>\n",
       "      <td>0.928068</td>\n",
       "    </tr>\n",
       "    <tr>\n",
       "      <th>2</th>\n",
       "      <td>0.911673</td>\n",
       "    </tr>\n",
       "    <tr>\n",
       "      <th>3</th>\n",
       "      <td>0.659318</td>\n",
       "    </tr>\n",
       "    <tr>\n",
       "      <th>4</th>\n",
       "      <td>0.586643</td>\n",
       "    </tr>\n",
       "  </tbody>\n",
       "</table>\n",
       "</div>"
      ],
      "text/plain": [
       "        Z_j\n",
       "0  0.643655\n",
       "1  0.928068\n",
       "2  0.911673\n",
       "3  0.659318\n",
       "4  0.586643"
      ]
     },
     "execution_count": 88,
     "metadata": {},
     "output_type": "execute_result"
    }
   ],
   "source": [
    "BS_df"
   ]
  },
  {
   "cell_type": "code",
   "execution_count": null,
   "metadata": {},
   "outputs": [],
   "source": []
  },
  {
   "cell_type": "code",
   "execution_count": null,
   "metadata": {},
   "outputs": [],
   "source": []
  },
  {
   "cell_type": "code",
   "execution_count": 57,
   "metadata": {},
   "outputs": [],
   "source": [
    "#Excel exports of SUMPAYM Data\n",
    "X_train2.to_excel('X_train_SUMPAYM.xlsx')\n",
    "class1.to_excel('Class1_SUMPAYM.xlsx')\n",
    "class2.to_excel('Class2_SUMPAYM.xlsx')\n",
    "class3.to_excel('Class3_SUMPAYM.xlsx')\n",
    "class4.to_excel('Class4_SUMPAYM.xlsx')\n",
    "class5.to_excel('Class5_SUMPAYM.xlsx')\n"
   ]
  },
  {
   "cell_type": "code",
   "execution_count": null,
   "metadata": {},
   "outputs": [],
   "source": []
  },
  {
   "cell_type": "code",
   "execution_count": null,
   "metadata": {},
   "outputs": [],
   "source": []
  },
  {
   "cell_type": "code",
   "execution_count": null,
   "metadata": {},
   "outputs": [],
   "source": []
  },
  {
   "cell_type": "code",
   "execution_count": null,
   "metadata": {},
   "outputs": [],
   "source": []
  },
  {
   "cell_type": "code",
   "execution_count": null,
   "metadata": {},
   "outputs": [],
   "source": []
  },
  {
   "cell_type": "code",
   "execution_count": null,
   "metadata": {},
   "outputs": [],
   "source": []
  },
  {
   "cell_type": "code",
   "execution_count": null,
   "metadata": {},
   "outputs": [],
   "source": []
  },
  {
   "cell_type": "code",
   "execution_count": null,
   "metadata": {},
   "outputs": [],
   "source": []
  },
  {
   "cell_type": "code",
   "execution_count": null,
   "metadata": {},
   "outputs": [],
   "source": []
  },
  {
   "cell_type": "code",
   "execution_count": null,
   "metadata": {},
   "outputs": [],
   "source": []
  },
  {
   "cell_type": "code",
   "execution_count": null,
   "metadata": {},
   "outputs": [],
   "source": []
  },
  {
   "cell_type": "code",
   "execution_count": null,
   "metadata": {},
   "outputs": [],
   "source": []
  }
 ],
 "metadata": {
  "kernelspec": {
   "display_name": "Python 3",
   "language": "python",
   "name": "python3"
  },
  "language_info": {
   "codemirror_mode": {
    "name": "ipython",
    "version": 3
   },
   "file_extension": ".py",
   "mimetype": "text/x-python",
   "name": "python",
   "nbconvert_exporter": "python",
   "pygments_lexer": "ipython3",
   "version": "3.7.1"
  }
 },
 "nbformat": 4,
 "nbformat_minor": 2
}
